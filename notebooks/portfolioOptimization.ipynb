{
 "cells": [
  {
   "cell_type": "code",
   "execution_count": null,
   "id": "21b5e703-6837-48f6-a490-987c2da60938",
   "metadata": {},
   "outputs": [],
   "source": [
    "# Import Libraries\n",
    "import yfinance as yf\n",
    "import pandas as pd\n",
    "import numpy as np\n",
    "import matplotlib.pyplot as plt\n",
    "from scipy.optimize import minimize"
   ]
  },
  {
   "cell_type": "code",
   "execution_count": null,
   "id": "419e6b61-ee03-4312-ade4-6b5d484b1968",
   "metadata": {},
   "outputs": [],
   "source": [
    "# Define the assets and time range\n",
    "assets = ['TSLA', 'BND', 'SPY']\n",
    "start_date = '2015-01-01'\n",
    "end_date = '2024-10-31'"
   ]
  },
  {
   "cell_type": "code",
   "execution_count": null,
   "id": "7588ff4b-ac36-4017-8ffa-67077c1d591f",
   "metadata": {},
   "outputs": [],
   "source": [
    "# Load Data for TSLA, BND, and SPY\n",
    "data = yf.download(assets, start=start_date, end=end_date)['Close']\n",
    "data = data.dropna()"
   ]
  },
  {
   "cell_type": "code",
   "execution_count": null,
   "id": "46339157-7ec5-48a0-a7de-247d9c20a9fe",
   "metadata": {},
   "outputs": [],
   "source": [
    "# Calculate Daily Returns\n",
    "returns = data.pct_change().dropna()\n",
    "\n",
    "\n",
    "forecasted_returns = {\n",
    "    'TSLA': 0.15,  \n",
    "    'BND': 0.03,   \n",
    "    'SPY': 0.10    \n",
    "}"
   ]
  },
  {
   "cell_type": "code",
   "execution_count": null,
   "id": "28b223dc-5078-4086-9bfa-ab0faeff98df",
   "metadata": {},
   "outputs": [],
   "source": [
    "# Convert forecasted annual returns to daily returns\n",
    "forecasted_daily_returns = {asset: (1 + forecasted_returns[asset])**(1/252) - 1 for asset in assets}\n",
    "\n",
    "# Calculate Covariance Matrix of Daily Returns\n",
    "cov_matrix = returns.cov()\n"
   ]
  },
  {
   "cell_type": "code",
   "execution_count": null,
   "id": "15fd1893-ee13-4065-bd8e-190d95d6c669",
   "metadata": {},
   "outputs": [],
   "source": [
    "# Define Functions for Portfolio Optimization\n",
    "\n",
    "# Portfolio Performance: Calculates return and volatility for given weights\n",
    "def portfolio_performance(weights, mean_returns, cov_matrix):\n",
    "    returns = np.sum(mean_returns * weights) * 252\n",
    "    volatility = np.sqrt(np.dot(weights.T, np.dot(cov_matrix * 252, weights)))\n",
    "    return returns, volatility"
   ]
  },
  {
   "cell_type": "code",
   "execution_count": null,
   "id": "6b68b45b-1b69-4b0f-ac20-7d2db29bfd7d",
   "metadata": {},
   "outputs": [],
   "source": [
    "# Negative Sharpe Ratio: Used to maximize Sharpe Ratio by minimizing its negative\n",
    "def neg_sharpe_ratio(weights, mean_returns, cov_matrix, risk_free_rate=0.02):\n",
    "    p_return, p_volatility = portfolio_performance(weights, mean_returns, cov_matrix)\n",
    "    return -(p_return - risk_free_rate) / p_volatility"
   ]
  },
  {
   "cell_type": "code",
   "execution_count": null,
   "id": "fca6a3b4-6c77-4f19-96d8-cc60d88c5efc",
   "metadata": {},
   "outputs": [],
   "source": [
    "# Constraints: Sum of weights is 1\n",
    "constraints = ({'type': 'eq', 'fun': lambda x: np.sum(x) - 1})\n",
    "\n",
    "# Bounds for each weight (0 to 100%)\n",
    "bounds = tuple((0, 1) for asset in range(len(assets)))\n",
    "\n",
    "# Initial Guess (Equal Weights)\n",
    "initial_weights = [1/len(assets) for asset in range(len(assets))]\n",
    "\n",
    "# Perform Optimization\n",
    "optimal = minimize(neg_sharpe_ratio, initial_weights, args=(list(forecasted_daily_returns.values()), cov_matrix), \n",
    "                   method='SLSQP', bounds=bounds, constraints=constraints)\n"
   ]
  },
  {
   "cell_type": "code",
   "execution_count": null,
   "id": "86b71b5b-b7f3-4011-958a-3763018e3b18",
   "metadata": {},
   "outputs": [],
   "source": [
    "# Optimal Weights\n",
    "optimal_weights = optimal.x\n",
    "print(\"Optimal Portfolio Weights:\")\n",
    "for asset, weight in zip(assets, optimal_weights):\n",
    "    print(f\"{asset}: {weight:.2%}\")\n",
    "\n",
    "# Calculate Portfolio Metrics\n",
    "p_return, p_volatility = portfolio_performance(optimal_weights, list(forecasted_daily_returns.values()), cov_matrix)\n",
    "sharpe_ratio = (p_return - 0.02) / p_volatility  #  a risk-free rate of 2%\n",
    "\n",
    "print(f\"\\nOptimized Portfolio Performance:\")\n",
    "print(f\"Expected Annual Return: {p_return:.2%}\")\n",
    "print(f\"Annual Volatility (Risk): {p_volatility:.2%}\")\n",
    "print(f\"Sharpe Ratio: {sharpe_ratio:.2f}\")"
   ]
  }
 ],
 "metadata": {
  "kernelspec": {
   "display_name": "Python 3 (ipykernel)",
   "language": "python",
   "name": "python3"
  },
  "language_info": {
   "codemirror_mode": {
    "name": "ipython",
    "version": 3
   },
   "file_extension": ".py",
   "mimetype": "text/x-python",
   "name": "python",
   "nbconvert_exporter": "python",
   "pygments_lexer": "ipython3",
   "version": "3.10.12"
  }
 },
 "nbformat": 4,
 "nbformat_minor": 5
}
